{
 "metadata": {
  "language_info": {
   "codemirror_mode": {
    "name": "ipython",
    "version": 3
   },
   "file_extension": ".py",
   "mimetype": "text/x-python",
   "name": "python",
   "nbconvert_exporter": "python",
   "pygments_lexer": "ipython3",
   "version": 3
  },
  "orig_nbformat": 2
 },
 "nbformat": 4,
 "nbformat_minor": 2,
 "cells": [
  {
   "cell_type": "code",
   "execution_count": null,
   "metadata": {},
   "outputs": [],
   "source": [
    "# imports\n",
    "import sys\n",
    "sys.path.insert(1, 'modules')"
   ]
  },
  {
   "cell_type": "code",
   "execution_count": null,
   "metadata": {},
   "outputs": [],
   "source": [
    "# local imports\n",
    "import config as cfg\n",
    "import protein as prot"
   ]
  },
  {
   "cell_type": "code",
   "execution_count": null,
   "metadata": {},
   "outputs": [],
   "source": [
    "# PRE-PROCESSING TRAINING SET\n",
    "# PARSING FASTA\n",
    "toxic_proteins = hf.parse_fasta(cfg.f_train_toxic_fasta, 1)\n",
    "atoxic_proteins = hf.parse_fasta(cfg.f_train_atoxic_fasta, 0)"
   ]
  },
  {
   "cell_type": "code",
   "execution_count": null,
   "metadata": {},
   "outputs": [],
   "source": [
    "# print test\n",
    "print(f'Total toxic sequences: {len(toxic_proteins)}')\n",
    "print(f'Total atoxic sequences: {len(atoxic_proteins)}')"
   ]
  }
 ]
}