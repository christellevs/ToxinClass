{
 "metadata": {
  "language_info": {
   "codemirror_mode": {
    "name": "ipython",
    "version": 3
   },
   "file_extension": ".py",
   "mimetype": "text/x-python",
   "name": "python",
   "nbconvert_exporter": "python",
   "pygments_lexer": "ipython3",
   "version": 3
  },
  "orig_nbformat": 2,
  "kernelspec": {
   "name": "python_defaultSpec_1596697739212",
   "display_name": "Python 3.8.3 64-bit ('.venv': venv)"
  }
 },
 "nbformat": 4,
 "nbformat_minor": 2,
 "cells": [
  {
   "cell_type": "code",
   "execution_count": 15,
   "metadata": {},
   "outputs": [],
   "source": [
    "import pandas as pd\n",
    "import pprint as p\n",
    "import re\n",
    "\n",
    "# imports\n",
    "import sys\n",
    "sys.path.insert(1, 'modules')\n",
    "\n",
    "from sklearn.utils import resample"
   ]
  },
  {
   "cell_type": "code",
   "execution_count": 4,
   "metadata": {},
   "outputs": [],
   "source": [
    "# local imports\n",
    "import modules.config as cfg\n",
    "import modules.utils as u\n",
    "\n",
    "import modules.atchley as a\n",
    "import modules.parser as par\n",
    "import modules.protein as prot"
   ]
  },
  {
   "cell_type": "code",
   "execution_count": 5,
   "metadata": {},
   "outputs": [
    {
     "output_type": "execute_result",
     "data": {
      "text/plain": "'ATCHLEY VALUE PARSING'"
     },
     "metadata": {},
     "execution_count": 5
    }
   ],
   "source": [
    "\"\"\"ATCHLEY VALUE PARSING\"\"\""
   ]
  },
  {
   "cell_type": "code",
   "execution_count": 12,
   "metadata": {
    "tags": []
   },
   "outputs": [
    {
     "output_type": "stream",
     "name": "stdout",
     "text": "amino.acid      f1      f2      f3      f4      f5\n0           A  −0.591  −1.302  −0.733   1.570  −0.146\n1           C  −1.343   0.465  −0.862  −1.020  −0.255\n2           D   1.050   0.302  −3.656  −0.259  −3.242\n3           E   1.357  −1.453   1.477   0.113  −0.837\n4           F  −1.006  −0.590   1.891  −0.397   0.412\n5           G  −0.384   1.652   1.330   1.045   2.064\n6           H   0.336  −0.417  −1.673  −1.474  −0.078\n7           I  −1.239  −0.547   2.131   0.393   0.816\n8           K   1.831  −0.561   0.533  −0.277   1.648\n9           L  −1.019  −0.987  −1.505   1.266  −0.912\n10          M  −0.663  −1.524   2.219  −1.005   1.212\n11          N   0.945   0.828   1.299  −0.169   0.933\n12          P   0.189   2.081  −1.628   0.421  −1.392\n13          Q   0.931  −0.179  −3.005  −0.503  −1.853\n14          R   1.538  −0.055   1.502   0.440   2.897\n15          S  −0.228   1.399  −4.760   0.670  −2.647\n16          T  −0.032   0.326   2.213   0.908   1.313\n17          V  −1.337  −0.279  −0.544   1.242  −1.262\n18          W  −0.595   0.009   0.672  −2.128  −0.184\n19          Y   0.260   0.830   3.097  −0.838   1.512\n"
    }
   ],
   "source": [
    "# loading atchley csv data and turning to dict\n",
    "df_atchley = pd.read_csv(filepath_or_buffer=cfg.f_in_atchley, sep='\\t')\n",
    "p.pprint(df_atchley)"
   ]
  },
  {
   "cell_type": "code",
   "execution_count": 13,
   "metadata": {
    "tags": []
   },
   "outputs": [
    {
     "output_type": "stream",
     "name": "stdout",
     "text": "f1      f2      f3      f4      f5\namino_acid                                        \nA           −0.591  −1.302  −0.733   1.570  −0.146\nC           −1.343   0.465  −0.862  −1.020  −0.255\nD            1.050   0.302  −3.656  −0.259  −3.242\nE            1.357  −1.453   1.477   0.113  −0.837\nF           −1.006  −0.590   1.891  −0.397   0.412\nG           −0.384   1.652   1.330   1.045   2.064\nH            0.336  −0.417  −1.673  −1.474  −0.078\nI           −1.239  −0.547   2.131   0.393   0.816\nK            1.831  −0.561   0.533  −0.277   1.648\nL           −1.019  −0.987  −1.505   1.266  −0.912\nM           −0.663  −1.524   2.219  −1.005   1.212\nN            0.945   0.828   1.299  −0.169   0.933\nP            0.189   2.081  −1.628   0.421  −1.392\nQ            0.931  −0.179  −3.005  −0.503  −1.853\nR            1.538  −0.055   1.502   0.440   2.897\nS           −0.228   1.399  −4.760   0.670  −2.647\nT           −0.032   0.326   2.213   0.908   1.313\nV           −1.337  −0.279  −0.544   1.242  −1.262\nW           −0.595   0.009   0.672  −2.128  −0.184\nY            0.260   0.830   3.097  −0.838   1.512\n"
    }
   ],
   "source": [
    "df_atchley.rename(columns={'amino.acid': 'amino_acid'}, inplace=True)\n",
    "df_atchley.set_index('amino_acid', inplace=True)\n",
    "p.pprint(df_atchley)"
   ]
  },
  {
   "cell_type": "code",
   "execution_count": 16,
   "metadata": {
    "tags": []
   },
   "outputs": [],
   "source": [
    "# cleaning values\n",
    "for col in df_atchley['f1': 'f5']:\n",
    "  df_atchley[col] = df_atchley[col].apply(lambda x: re.sub(r'[^\\x00-\\x7F]+','-', x)).astype(float)"
   ]
  },
  {
   "cell_type": "code",
   "execution_count": 17,
   "metadata": {},
   "outputs": [],
   "source": [
    "dict_atchley = df_atchley.T.to_dict('list')\n",
    "u.pickle_method(filename=cfg.f_out_atchley, method='wb', context=dict_atchley)"
   ]
  },
  {
   "cell_type": "code",
   "execution_count": 19,
   "metadata": {
    "tags": []
   },
   "outputs": [
    {
     "output_type": "stream",
     "name": "stdout",
     "text": "{'A': [-0.591, -1.302, -0.733, 1.57, -0.146],\n 'C': [-1.343, 0.465, -0.862, -1.02, -0.255],\n 'D': [1.05, 0.302, -3.656, -0.259, -3.242],\n 'E': [1.357, -1.453, 1.477, 0.113, -0.837],\n 'F': [-1.006, -0.59, 1.891, -0.397, 0.412],\n 'G': [-0.384, 1.652, 1.33, 1.045, 2.064],\n 'H': [0.336, -0.417, -1.673, -1.474, -0.078],\n 'I': [-1.239, -0.547, 2.131, 0.393, 0.816],\n 'K': [1.831, -0.561, 0.533, -0.277, 1.648],\n 'L': [-1.019, -0.987, -1.505, 1.266, -0.912],\n 'M': [-0.663, -1.524, 2.219, -1.005, 1.212],\n 'N': [0.945, 0.828, 1.299, -0.169, 0.933],\n 'P': [0.189, 2.081, -1.628, 0.421, -1.392],\n 'Q': [0.931, -0.179, -3.005, -0.503, -1.853],\n 'R': [1.538, -0.055, 1.502, 0.44, 2.897],\n 'S': [-0.228, 1.399, -4.76, 0.67, -2.647],\n 'T': [-0.032, 0.326, 2.213, 0.908, 1.313],\n 'V': [-1.337, -0.279, -0.544, 1.242, -1.262],\n 'W': [-0.595, 0.009, 0.672, -2.128, -0.184],\n 'Y': [0.26, 0.83, 3.097, -0.838, 1.512]}\n"
    }
   ],
   "source": [
    "# unpickling saved dictionary\n",
    "dict_atchley = u.pickle_method(filename=cfg.f_out_atchley, method='rb')\n",
    "p.pprint(dict_atchley)"
   ]
  },
  {
   "cell_type": "code",
   "execution_count": 20,
   "metadata": {},
   "outputs": [
    {
     "output_type": "execute_result",
     "data": {
      "text/plain": "'INITIAL PRE-PROCESSING'"
     },
     "metadata": {},
     "execution_count": 20
    }
   ],
   "source": [
    "\"\"\"INITIAL PRE-PROCESSING\"\"\""
   ]
  },
  {
   "cell_type": "code",
   "execution_count": 21,
   "metadata": {},
   "outputs": [],
   "source": [
    "# Parsing fast files\n",
    "toxic_proteins = par.parse_fasta(path_fasta=cfg.f_train_toxic_fasta, is_toxic=1)\n",
    "atoxic_proteins = par.parse_fasta(path_fasta=cfg.f_train_atoxic_fasta, is_toxic=0)"
   ]
  },
  {
   "cell_type": "code",
   "execution_count": 22,
   "metadata": {
    "tags": []
   },
   "outputs": [
    {
     "output_type": "stream",
     "name": "stdout",
     "text": "Total toxic sequences: 6001\nTotal atoxic sequences: 49764\n"
    }
   ],
   "source": [
    "# print test\n",
    "print(f'Total toxic sequences: {len(toxic_proteins)}')\n",
    "print(f'Total atoxic sequences: {len(atoxic_proteins)}')"
   ]
  },
  {
   "cell_type": "code",
   "execution_count": 23,
   "metadata": {},
   "outputs": [],
   "source": [
    "# DOWNSAMPLING ATOXIC SEQUENCES\n",
    "toxic_proteins = par.crop_sequences(toxic_proteins)\n",
    "atoxic_proteins = par.crop_sequences(atoxic_proteins)"
   ]
  },
  {
   "cell_type": "code",
   "execution_count": 24,
   "metadata": {
    "tags": []
   },
   "outputs": [
    {
     "output_type": "stream",
     "name": "stdout",
     "text": "Total toxic sequences ( <= 500): 5896\nTotal toxic sequences ( <= 500): 40282\n"
    }
   ],
   "source": [
    "total_toxic_seqs = len(toxic_proteins)\n",
    "print(f'Total toxic sequences ( <= {cfg.MAX_SEQ_LEN}): {total_toxic_seqs}')\n",
    "print(f'Total toxic sequences ( <= {cfg.MAX_SEQ_LEN}): {len(atoxic_proteins)}')"
   ]
  },
  {
   "cell_type": "code",
   "execution_count": 27,
   "metadata": {
    "tags": []
   },
   "outputs": [
    {
     "output_type": "stream",
     "name": "stdout",
     "text": "Total protein sequences in atoxic list post-downsampling: 5896\nLists are EQUAL length\n"
    }
   ],
   "source": [
    "\"\"\"Checking to see if the downsampled atoxic list is the same length as the toxic list.\"\"\"\n",
    "\n",
    "atoxic_proteins = resample(atoxic_proteins, replace=False, n_samples=total_toxic_seqs, random_state=cfg.RANDOM_SEED)\n",
    "\n",
    "print(f'Total protein sequences in atoxic list post-downsampling: {len(atoxic_proteins)}')\n",
    "print('Lists are EQUAL length') if len(atoxic_proteins) == len(toxic_proteins) else print(\"Lists are NOT equal length\")"
   ]
  },
  {
   "cell_type": "code",
   "execution_count": 29,
   "metadata": {},
   "outputs": [
    {
     "output_type": "error",
     "ename": "AttributeError",
     "evalue": "module 'config' has no attribute 'DICT_ATCHLEY'",
     "traceback": [
      "\u001b[1;31m---------------------------------------------------------------------------\u001b[0m",
      "\u001b[1;31mAttributeError\u001b[0m                            Traceback (most recent call last)",
      "\u001b[1;32m<ipython-input-29-80dc85b28150>\u001b[0m in \u001b[0;36m<module>\u001b[1;34m\u001b[0m\n\u001b[0;32m      2\u001b[0m \u001b[1;33m\u001b[0m\u001b[0m\n\u001b[0;32m      3\u001b[0m \u001b[0mproteins\u001b[0m \u001b[1;33m=\u001b[0m \u001b[0mtoxic_proteins\u001b[0m \u001b[1;33m+\u001b[0m \u001b[0matoxic_proteins\u001b[0m\u001b[1;33m\u001b[0m\u001b[1;33m\u001b[0m\u001b[0m\n\u001b[1;32m----> 4\u001b[1;33m \u001b[0mpar\u001b[0m\u001b[1;33m.\u001b[0m\u001b[0mappend_proteins\u001b[0m\u001b[1;33m(\u001b[0m\u001b[0mproteins\u001b[0m\u001b[1;33m)\u001b[0m\u001b[1;33m\u001b[0m\u001b[1;33m\u001b[0m\u001b[0m\n\u001b[0m",
      "\u001b[1;32mc:\\Documents\\UoS\\Y3\\COM3001\\Submission\\source_code\\toxin_class\\modules\\parser.py\u001b[0m in \u001b[0;36mappend_proteins\u001b[1;34m(proteins)\u001b[0m\n\u001b[0;32m     56\u001b[0m     \u001b[0mAppends\u001b[0m \u001b[0mAtchley\u001b[0m \u001b[0mvalues\u001b[0m \u001b[0mto\u001b[0m \u001b[0mthe\u001b[0m \u001b[0mProtein\u001b[0m \u001b[0mobject\u001b[0m \u001b[0mmatrices\u001b[0m\u001b[1;33m.\u001b[0m\u001b[1;33m\u001b[0m\u001b[1;33m\u001b[0m\u001b[0m\n\u001b[0;32m     57\u001b[0m     \"\"\"\n\u001b[1;32m---> 58\u001b[1;33m     \u001b[0mappend_atchley_values\u001b[0m\u001b[1;33m(\u001b[0m\u001b[0mproteins\u001b[0m\u001b[1;33m)\u001b[0m\u001b[1;33m\u001b[0m\u001b[1;33m\u001b[0m\u001b[0m\n\u001b[0m\u001b[0;32m     59\u001b[0m     \u001b[0mupdate_matrices\u001b[0m\u001b[1;33m(\u001b[0m\u001b[0mproteins\u001b[0m\u001b[1;33m)\u001b[0m\u001b[1;33m\u001b[0m\u001b[1;33m\u001b[0m\u001b[0m\n\u001b[0;32m     60\u001b[0m     \u001b[0mu\u001b[0m\u001b[1;33m.\u001b[0m\u001b[0mpickle_method\u001b[0m\u001b[1;33m(\u001b[0m\u001b[0mcfg\u001b[0m\u001b[1;33m.\u001b[0m\u001b[0mf_train_proteins\u001b[0m\u001b[1;33m,\u001b[0m \u001b[1;34m'wb'\u001b[0m\u001b[1;33m,\u001b[0m \u001b[0mproteins\u001b[0m\u001b[1;33m)\u001b[0m\u001b[1;33m\u001b[0m\u001b[1;33m\u001b[0m\u001b[0m\n",
      "\u001b[1;32mc:\\Documents\\UoS\\Y3\\COM3001\\Submission\\source_code\\toxin_class\\modules\\parser.py\u001b[0m in \u001b[0;36mappend_atchley_values\u001b[1;34m(proteins_list)\u001b[0m\n\u001b[0;32m    116\u001b[0m     \"\"\"\n\u001b[0;32m    117\u001b[0m     \u001b[1;32mfor\u001b[0m \u001b[0mprotein\u001b[0m \u001b[1;32min\u001b[0m \u001b[0mproteins_list\u001b[0m\u001b[1;33m:\u001b[0m\u001b[1;33m\u001b[0m\u001b[1;33m\u001b[0m\u001b[0m\n\u001b[1;32m--> 118\u001b[1;33m         \u001b[0mget_atchley_values_raw\u001b[0m\u001b[1;33m(\u001b[0m\u001b[0mprotein\u001b[0m\u001b[1;33m.\u001b[0m\u001b[0msequence\u001b[0m\u001b[1;33m,\u001b[0m \u001b[0mprotein\u001b[0m\u001b[1;33m.\u001b[0m\u001b[0mseq_dict_raw\u001b[0m\u001b[1;33m)\u001b[0m\u001b[1;33m\u001b[0m\u001b[1;33m\u001b[0m\u001b[0m\n\u001b[0m\u001b[0;32m    119\u001b[0m         \u001b[0mget_atchley_diff\u001b[0m\u001b[1;33m(\u001b[0m\u001b[0mprotein\u001b[0m\u001b[1;33m.\u001b[0m\u001b[0mseq_dict_raw\u001b[0m\u001b[1;33m,\u001b[0m \u001b[0mprotein\u001b[0m\u001b[1;33m.\u001b[0m\u001b[0mseq_dict_diff\u001b[0m\u001b[1;33m)\u001b[0m\u001b[1;33m\u001b[0m\u001b[1;33m\u001b[0m\u001b[0m\n\u001b[0;32m    120\u001b[0m \u001b[1;33m\u001b[0m\u001b[0m\n",
      "\u001b[1;32mc:\\Documents\\UoS\\Y3\\COM3001\\Submission\\source_code\\toxin_class\\modules\\parser.py\u001b[0m in \u001b[0;36mget_atchley_values_raw\u001b[1;34m(sequence, seq_dict_r)\u001b[0m\n\u001b[0;32m     82\u001b[0m     \u001b[0mReturns\u001b[0m \u001b[0mraw\u001b[0m \u001b[0matchley\u001b[0m \u001b[0mvalues\u001b[0m \u001b[1;32min\u001b[0m \u001b[0ma\u001b[0m \u001b[0mdictionary\u001b[0m\u001b[1;33m.\u001b[0m\u001b[1;33m\u001b[0m\u001b[1;33m\u001b[0m\u001b[0m\n\u001b[0;32m     83\u001b[0m     \"\"\"\n\u001b[1;32m---> 84\u001b[1;33m     \u001b[0mseq_dict_r\u001b[0m\u001b[1;33m[\u001b[0m\u001b[1;34m'f1'\u001b[0m\u001b[1;33m]\u001b[0m \u001b[1;33m=\u001b[0m \u001b[0mget_atchley_values_list\u001b[0m\u001b[1;33m(\u001b[0m\u001b[0msequence\u001b[0m\u001b[1;33m,\u001b[0m \u001b[1;36m0\u001b[0m\u001b[1;33m)\u001b[0m\u001b[1;33m\u001b[0m\u001b[1;33m\u001b[0m\u001b[0m\n\u001b[0m\u001b[0;32m     85\u001b[0m     \u001b[0mseq_dict_r\u001b[0m\u001b[1;33m[\u001b[0m\u001b[1;34m'f2'\u001b[0m\u001b[1;33m]\u001b[0m \u001b[1;33m=\u001b[0m \u001b[0mget_atchley_values_list\u001b[0m\u001b[1;33m(\u001b[0m\u001b[0msequence\u001b[0m\u001b[1;33m,\u001b[0m \u001b[1;36m1\u001b[0m\u001b[1;33m)\u001b[0m\u001b[1;33m\u001b[0m\u001b[1;33m\u001b[0m\u001b[0m\n\u001b[0;32m     86\u001b[0m     \u001b[0mseq_dict_r\u001b[0m\u001b[1;33m[\u001b[0m\u001b[1;34m'f3'\u001b[0m\u001b[1;33m]\u001b[0m \u001b[1;33m=\u001b[0m \u001b[0mget_atchley_values_list\u001b[0m\u001b[1;33m(\u001b[0m\u001b[0msequence\u001b[0m\u001b[1;33m,\u001b[0m \u001b[1;36m2\u001b[0m\u001b[1;33m)\u001b[0m\u001b[1;33m\u001b[0m\u001b[1;33m\u001b[0m\u001b[0m\n",
      "\u001b[1;32mc:\\Documents\\UoS\\Y3\\COM3001\\Submission\\source_code\\toxin_class\\modules\\parser.py\u001b[0m in \u001b[0;36mget_atchley_values_list\u001b[1;34m(aminos, idx)\u001b[0m\n\u001b[0;32m     75\u001b[0m     \"\"\"\n\u001b[0;32m     76\u001b[0m \u001b[1;33m\u001b[0m\u001b[0m\n\u001b[1;32m---> 77\u001b[1;33m     \u001b[1;32mreturn\u001b[0m \u001b[1;33m[\u001b[0m\u001b[0mfloat\u001b[0m\u001b[1;33m(\u001b[0m\u001b[0mcfg\u001b[0m\u001b[1;33m.\u001b[0m\u001b[0mDICT_ATCHLEY\u001b[0m\u001b[1;33m.\u001b[0m\u001b[0mget\u001b[0m\u001b[1;33m(\u001b[0m\u001b[0mi\u001b[0m\u001b[1;33m)\u001b[0m\u001b[1;33m[\u001b[0m\u001b[0midx\u001b[0m\u001b[1;33m]\u001b[0m\u001b[1;33m)\u001b[0m \u001b[1;32mfor\u001b[0m \u001b[0mi\u001b[0m \u001b[1;32min\u001b[0m \u001b[0maminos\u001b[0m\u001b[1;33m]\u001b[0m\u001b[1;33m\u001b[0m\u001b[1;33m\u001b[0m\u001b[0m\n\u001b[0m\u001b[0;32m     78\u001b[0m \u001b[1;33m\u001b[0m\u001b[0m\n\u001b[0;32m     79\u001b[0m \u001b[1;33m\u001b[0m\u001b[0m\n",
      "\u001b[1;32mc:\\Documents\\UoS\\Y3\\COM3001\\Submission\\source_code\\toxin_class\\modules\\parser.py\u001b[0m in \u001b[0;36m<listcomp>\u001b[1;34m(.0)\u001b[0m\n\u001b[0;32m     75\u001b[0m     \"\"\"\n\u001b[0;32m     76\u001b[0m \u001b[1;33m\u001b[0m\u001b[0m\n\u001b[1;32m---> 77\u001b[1;33m     \u001b[1;32mreturn\u001b[0m \u001b[1;33m[\u001b[0m\u001b[0mfloat\u001b[0m\u001b[1;33m(\u001b[0m\u001b[0mcfg\u001b[0m\u001b[1;33m.\u001b[0m\u001b[0mDICT_ATCHLEY\u001b[0m\u001b[1;33m.\u001b[0m\u001b[0mget\u001b[0m\u001b[1;33m(\u001b[0m\u001b[0mi\u001b[0m\u001b[1;33m)\u001b[0m\u001b[1;33m[\u001b[0m\u001b[0midx\u001b[0m\u001b[1;33m]\u001b[0m\u001b[1;33m)\u001b[0m \u001b[1;32mfor\u001b[0m \u001b[0mi\u001b[0m \u001b[1;32min\u001b[0m \u001b[0maminos\u001b[0m\u001b[1;33m]\u001b[0m\u001b[1;33m\u001b[0m\u001b[1;33m\u001b[0m\u001b[0m\n\u001b[0m\u001b[0;32m     78\u001b[0m \u001b[1;33m\u001b[0m\u001b[0m\n\u001b[0;32m     79\u001b[0m \u001b[1;33m\u001b[0m\u001b[0m\n",
      "\u001b[1;31mAttributeError\u001b[0m: module 'config' has no attribute 'DICT_ATCHLEY'"
     ]
    }
   ],
   "source": [
    "# COMBINING & APPENDING SEQUENCES\n",
    "\n",
    "proteins = toxic_proteins + atoxic_proteins\n",
    "par.append_proteins(proteins)"
   ]
  },
  {
   "cell_type": "code",
   "execution_count": null,
   "metadata": {},
   "outputs": [],
   "source": [
    "print(f'Total overall protein sequences: {len(proteins)}')\n",
    "print(proteins[0].matrix_diff)"
   ]
  },
  {
   "cell_type": "code",
   "execution_count": null,
   "metadata": {},
   "outputs": [],
   "source": [
    "df_proteins = hf.proteins_to_df(proteins)"
   ]
  },
  {
   "cell_type": "code",
   "execution_count": null,
   "metadata": {},
   "outputs": [],
   "source": [
    "# print test\n",
    "print('\\nProtein training set info:')\n",
    "df_proteins.info()"
   ]
  },
  {
   "cell_type": "code",
   "execution_count": null,
   "metadata": {},
   "outputs": [],
   "source": [
    "print('\\nChecking value counts for each class in df combined:\\n1 == toxic\\n0 == atoxic\\n----------')\n",
    "print(df_proteins['toxic'].value_counts())"
   ]
  }
 ]
}